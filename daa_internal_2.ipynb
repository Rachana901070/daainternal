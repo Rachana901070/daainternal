{
  "nbformat": 4,
  "nbformat_minor": 0,
  "metadata": {
    "colab": {
      "provenance": [],
      "include_colab_link": true
    },
    "kernelspec": {
      "name": "python3",
      "display_name": "Python 3"
    },
    "language_info": {
      "name": "python"
    }
  },
  "cells": [
    {
      "cell_type": "markdown",
      "metadata": {
        "id": "view-in-github",
        "colab_type": "text"
      },
      "source": [
        "<a href=\"https://colab.research.google.com/github/Rachana901070/daainternal/blob/main/daa_internal_2.ipynb\" target=\"_parent\"><img src=\"https://colab.research.google.com/assets/colab-badge.svg\" alt=\"Open In Colab\"/></a>"
      ]
    },
    {
      "cell_type": "markdown",
      "source": [
        "# 1. Dijkstra's Algorithm\n",
        "\n",
        "\n",
        "\n"
      ],
      "metadata": {
        "id": "8tuu3W1UUoYn"
      }
    },
    {
      "cell_type": "code",
      "execution_count": null,
      "metadata": {
        "colab": {
          "base_uri": "https://localhost:8080/"
        },
        "id": "FSQjRokcHfwe",
        "outputId": "0c4b4aac-5e8c-4232-a66e-a8b3061885dc"
      },
      "outputs": [
        {
          "output_type": "stream",
          "name": "stdout",
          "text": [
            "Vertex 0: Distance = 0, Path = [0]\n",
            "Vertex 1: Distance = 4, Path = [0, 1]\n",
            "Vertex 2: Distance = 12, Path = [0, 1, 2]\n",
            "Vertex 3: Distance = 19, Path = [0, 1, 2, 3]\n",
            "Vertex 4: Distance = 21, Path = [0, 7, 6, 5, 4]\n",
            "Vertex 5: Distance = 11, Path = [0, 7, 6, 5]\n",
            "Vertex 6: Distance = 9, Path = [0, 7, 6]\n",
            "Vertex 7: Distance = 8, Path = [0, 7]\n",
            "Vertex 8: Distance = 14, Path = [0, 1, 2, 8]\n"
          ]
        }
      ],
      "source": [
        "# Final Code\n",
        "def dijkstra(graph, start):\n",
        "    n = len(graph)\n",
        "    visited = [False] * n\n",
        "    dist = [float('inf')] * n\n",
        "    prev = [None] * n\n",
        "    dist[start] = 0\n",
        "\n",
        "    for _ in range(n):\n",
        "        min_dist = float('inf')\n",
        "        u = -1\n",
        "        for i in range(n):\n",
        "            if not visited[i] and dist[i] < min_dist:\n",
        "                min_dist = dist[i]\n",
        "                u = i\n",
        "        if u == -1:\n",
        "            break\n",
        "        visited[u] = True\n",
        "        for v in range(n):\n",
        "            if graph[u][v] != 0 and not visited[v]:\n",
        "                if dist[u] + graph[u][v] < dist[v]:\n",
        "                    dist[v] = dist[u] + graph[u][v]\n",
        "                    prev[v] = u\n",
        "    return dist, prev\n",
        "\n",
        "def print_path(prev, v):\n",
        "    path = []\n",
        "    while v is not None:\n",
        "        path.append(v)\n",
        "        v = prev[v]\n",
        "    path.reverse()\n",
        "    return path\n",
        "\n",
        "# Example Usage\n",
        "graph = [\n",
        "    [0,4,0,0,0,0,0,8,0],\n",
        "    [4,0,8,0,0,0,0,11,0],\n",
        "    [0,8,0,7,0,4,0,0,2],\n",
        "    [0,0,7,0,9,14,0,0,0],\n",
        "    [0,0,0,9,0,10,0,0,0],\n",
        "    [0,0,4,14,10,0,2,0,0],\n",
        "    [0,0,0,0,0,2,0,1,6],\n",
        "    [8,11,0,0,0,0,1,0,7],\n",
        "    [0,0,2,0,0,0,6,7,0]\n",
        "]\n",
        "start = 0\n",
        "dist, prev = dijkstra(graph, start)\n",
        "\n",
        "for v in range(len(dist)):\n",
        "    path = print_path(prev, v)\n",
        "    print(f\"Vertex {v}: Distance = {dist[v]}, Path = {path}\")"
      ]
    },
    {
      "cell_type": "markdown",
      "source": [
        "# 2. Bellman-Ford Algorithm"
      ],
      "metadata": {
        "id": "IyWsiRjGU9So"
      }
    },
    {
      "cell_type": "code",
      "source": [
        "# Final Code\n",
        "def bellman_ford(V, edges, start):\n",
        "    dist = [float('inf')] * V\n",
        "    prev = [None] * V\n",
        "    dist[start] = 0\n",
        "\n",
        "    for _ in range(V-1):\n",
        "        for u, v, w in edges:\n",
        "            if dist[u] + w < dist[v]:\n",
        "                dist[v] = dist[u] + w\n",
        "                prev[v] = u\n",
        "\n",
        "    for u, v, w in edges:\n",
        "        if dist[u] + w < dist[v]:\n",
        "            print(\"Graph contains a negative weight cycle\")\n",
        "            return None, None\n",
        "\n",
        "    return dist, prev\n",
        "\n",
        "def print_path(prev, v):\n",
        "    path = []\n",
        "    while v is not None:\n",
        "        path.append(v)\n",
        "        v = prev[v]\n",
        "    path.reverse()\n",
        "    return path\n",
        "\n",
        "# Example Usage\n",
        "edges = [(0,1,4),(0,2,5),(1,2,-3),(2,3,4),(3,1,6)]\n",
        "V = 4\n",
        "start = 0\n",
        "dist, prev = bellman_ford(V, edges, start)\n",
        "\n",
        "if dist:\n",
        "    print(f\"Shortest distances from vertex {start}:\")\n",
        "    for v in range(V):\n",
        "        path = print_path(prev, v)\n",
        "        print(f\"Vertex {v}: Distance = {dist[v]}, Path = {path}\")\n"
      ],
      "metadata": {
        "colab": {
          "base_uri": "https://localhost:8080/"
        },
        "id": "6Tf_LLWjUYr9",
        "outputId": "a950481a-208b-4563-d33e-0b70ed3ec9d6"
      },
      "execution_count": null,
      "outputs": [
        {
          "output_type": "stream",
          "name": "stdout",
          "text": [
            "Shortest distances from vertex 0:\n",
            "Vertex 0: Distance = 0, Path = [0]\n",
            "Vertex 1: Distance = 4, Path = [0, 1]\n",
            "Vertex 2: Distance = 1, Path = [0, 1, 2]\n",
            "Vertex 3: Distance = 5, Path = [0, 1, 2, 3]\n"
          ]
        }
      ]
    },
    {
      "cell_type": "markdown",
      "source": [
        "# 3. Topological Sort (DFS)"
      ],
      "metadata": {
        "id": "JyiuGltNVRXU"
      }
    },
    {
      "cell_type": "code",
      "source": [
        "# Final Code\n",
        "def dfs_topological_sort(V, adj):\n",
        "    visited = [False] * V\n",
        "    stack = []\n",
        "\n",
        "    def dfs(u):\n",
        "        visited[u] = True\n",
        "        for v in adj[u]:\n",
        "            if not visited[v]:\n",
        "                dfs(v)\n",
        "        stack.append(u)\n",
        "\n",
        "    for i in range(V):\n",
        "        if not visited[i]:\n",
        "            dfs(i)\n",
        "\n",
        "    return stack[::-1]\n",
        "\n",
        "# Example Usage\n",
        "V = 6\n",
        "adj = [[] for _ in range(V)]\n",
        "edges = [(5,2),(5,0),(4,0),(4,1),(2,3),(3,1)]\n",
        "for u, v in edges:\n",
        "    adj[u].append(v)\n",
        "\n",
        "order = dfs_topological_sort(V, adj)\n",
        "print(\"Topological Order:\", order)\n"
      ],
      "metadata": {
        "colab": {
          "base_uri": "https://localhost:8080/"
        },
        "id": "4W9xvpOiVSWM",
        "outputId": "c31c11ea-9e82-4b71-aa8f-3d7d17936493"
      },
      "execution_count": null,
      "outputs": [
        {
          "output_type": "stream",
          "name": "stdout",
          "text": [
            "Topological Order: [5, 4, 2, 3, 1, 0]\n"
          ]
        }
      ]
    },
    {
      "cell_type": "markdown",
      "source": [
        "# 4. Johnson's Algorithm"
      ],
      "metadata": {
        "id": "YX_uIbN4VheE"
      }
    },
    {
      "cell_type": "code",
      "source": [
        "# Final Code\n",
        "def bellman_ford(V, edges, source):\n",
        "    dist = [float('inf')] * V\n",
        "    dist[source] = 0\n",
        "    for _ in range(V - 1):\n",
        "        for u, v, w in edges:\n",
        "            if dist[u] + w < dist[v]:\n",
        "                dist[v] = dist[u] + w\n",
        "    for u, v, w in edges:\n",
        "        if dist[u] + w < dist[v]:\n",
        "            return None\n",
        "    return dist\n",
        "\n",
        "def simple_dijkstra(V, adj, source):\n",
        "    visited = [False] * V\n",
        "    dist = [float('inf')] * V\n",
        "    dist[source] = 0\n",
        "    for _ in range(V):\n",
        "        u = -1\n",
        "        min_dist = float('inf')\n",
        "        for i in range(V):\n",
        "            if not visited[i] and dist[i] < min_dist:\n",
        "                min_dist = dist[i]\n",
        "                u = i\n",
        "        if u == -1:\n",
        "            break\n",
        "        visited[u] = True\n",
        "        for v, w in adj[u]:\n",
        "            if not visited[v] and dist[u] + w < dist[v]:\n",
        "                dist[v] = dist[u] + w\n",
        "    return dist\n",
        "\n",
        "def johnsons_algorithm(V, edges):\n",
        "    new_edges = edges + [(V, v, 0) for v in range(V)]\n",
        "    h = bellman_ford(V + 1, new_edges, V)\n",
        "    if h is None:\n",
        "        print(\"Graph contains a negative weight cycle\")\n",
        "        return None\n",
        "\n",
        "    reweighted_adj = [[] for _ in range(V)]\n",
        "    for u, v, w in edges:\n",
        "        reweighted_adj[u].append((v, w + h[u] - h[v]))\n",
        "\n",
        "    all_pairs = []\n",
        "    for u in range(V):\n",
        "        d = simple_dijkstra(V, reweighted_adj, u)\n",
        "        d = [d[v] + h[v] - h[u] if d[v] != float('inf') else float('inf') for v in range(V)]\n",
        "        all_pairs.append(d)\n",
        "    return all_pairs\n",
        "\n",
        "# Example Usage\n",
        "edges = [(0,1,-2),(1,2,3),(2,0,1)]\n",
        "V = 3\n",
        "shortest_paths = johnsons_algorithm(V, edges)\n",
        "\n",
        "if shortest_paths:\n",
        "    for u in range(V):\n",
        "        print(f\"Distances from {u}: {shortest_paths[u]}\")\n"
      ],
      "metadata": {
        "colab": {
          "base_uri": "https://localhost:8080/"
        },
        "id": "1oIVqdZsVQb7",
        "outputId": "df14862c-d693-475b-f468-8bed7a86e477"
      },
      "execution_count": null,
      "outputs": [
        {
          "output_type": "stream",
          "name": "stdout",
          "text": [
            "Distances from 0: [0, -2, 1]\n",
            "Distances from 1: [4, 0, 3]\n",
            "Distances from 2: [1, -1, 0]\n"
          ]
        }
      ]
    },
    {
      "cell_type": "markdown",
      "source": [
        "# 5. Topological Sort (Source Elimination - Kahn’s Algorithm)"
      ],
      "metadata": {
        "id": "Xlh2vXrvVpAH"
      }
    },
    {
      "cell_type": "code",
      "source": [
        "# Final Code\n",
        "def kahn_topological_sort(V, adj):\n",
        "    indegree = [0] * V\n",
        "    for u in range(V):\n",
        "        for v in adj[u]:\n",
        "            indegree[v] += 1\n",
        "\n",
        "    queue = []\n",
        "    for i in range(V):\n",
        "        if indegree[i] == 0:\n",
        "            queue.append(i)\n",
        "\n",
        "    topo_order = []\n",
        "    while queue:\n",
        "        u = queue.pop(0)\n",
        "        topo_order.append(u)\n",
        "        for v in adj[u]:\n",
        "            indegree[v] -= 1\n",
        "            if indegree[v] == 0:\n",
        "                queue.append(v)\n",
        "\n",
        "    if len(topo_order) == V:\n",
        "        return topo_order\n",
        "    else:\n",
        "        print(\"Cycle detected! Topological sort not possible.\")\n",
        "        return None\n",
        "\n",
        "# Example Usage\n",
        "V = 6\n",
        "adj = [[] for _ in range(V)]\n",
        "edges = [(5,2),(5,0),(4,0),(4,1),(2,3),(3,1)]\n",
        "for u, v in edges:\n",
        "    adj[u].append(v)\n",
        "\n",
        "order = kahn_topological_sort(V, adj)\n",
        "if order:\n",
        "    print(\"Topological Order:\", order)\n"
      ],
      "metadata": {
        "colab": {
          "base_uri": "https://localhost:8080/"
        },
        "id": "x2mNDkXKVopi",
        "outputId": "e5bafefc-5878-41b0-ff90-2e6699eaa5e2"
      },
      "execution_count": null,
      "outputs": [
        {
          "output_type": "stream",
          "name": "stdout",
          "text": [
            "Topological Order: [4, 5, 2, 0, 3, 1]\n"
          ]
        }
      ]
    },
    {
      "cell_type": "markdown",
      "source": [
        "# 6. Kosaraju’s Algorithm"
      ],
      "metadata": {
        "id": "fdprXh3uV2y8"
      }
    },
    {
      "cell_type": "code",
      "source": [
        "# Final Code\n",
        "def kosaraju_scc(V, adj):\n",
        "    visited = [False] * V\n",
        "    stack = []\n",
        "\n",
        "    def dfs1(u):\n",
        "        visited[u] = True\n",
        "        for v in adj[u]:\n",
        "            if not visited[v]:\n",
        "                dfs1(v)\n",
        "        stack.append(u)\n",
        "\n",
        "    def dfs2(u, transpose_adj, component):\n",
        "        visited[u] = True\n",
        "        component.append(u)\n",
        "        for v in transpose_adj[u]:\n",
        "            if not visited[v]:\n",
        "                dfs2(v, transpose_adj, component)\n",
        "\n",
        "    for i in range(V):\n",
        "        if not visited[i]:\n",
        "            dfs1(i)\n",
        "\n",
        "    transpose_adj = [[] for _ in range(V)]\n",
        "    for u in range(V):\n",
        "        for v in adj[u]:\n",
        "            transpose_adj[v].append(u)\n",
        "\n",
        "    visited = [False] * V\n",
        "    scc_list = []\n",
        "\n",
        "    while stack:\n",
        "        u = stack.pop()\n",
        "        if not visited[u]:\n",
        "            component = []\n",
        "            dfs2(u, transpose_adj, component)\n",
        "            scc_list.append(component)\n",
        "\n",
        "    return scc_list\n",
        "\n",
        "# Example Usage\n",
        "V = 5\n",
        "adj = [[] for _ in range(V)]\n",
        "edges = [(1,0),(0,2),(2,1),(0,3),(3,4)]\n",
        "for u, v in edges:\n",
        "    adj[u].append(v)\n",
        "\n",
        "scc = kosaraju_scc(V, adj)\n",
        "print(\"Strongly Connected Components:\", scc)\n"
      ],
      "metadata": {
        "colab": {
          "base_uri": "https://localhost:8080/"
        },
        "id": "e3uJRxqlV2jT",
        "outputId": "2f291f2d-bdd1-41a0-d650-b6a438a9b0f7"
      },
      "execution_count": null,
      "outputs": [
        {
          "output_type": "stream",
          "name": "stdout",
          "text": [
            "Strongly Connected Components: [[0, 1, 2], [3], [4]]\n"
          ]
        }
      ]
    },
    {
      "cell_type": "markdown",
      "source": [
        "# 7. Biconnected Components (BCC)"
      ],
      "metadata": {
        "id": "hNJosZq0V_MZ"
      }
    },
    {
      "cell_type": "code",
      "source": [
        "# Final Code\n",
        "def biconnected_components(V, adj):\n",
        "    disc = [None] * V\n",
        "    low = [None] * V\n",
        "    parent = [-1] * V\n",
        "    time = [0]\n",
        "    stack = []\n",
        "    bcc_list = []\n",
        "\n",
        "    def dfs(u):\n",
        "        disc[u] = low[u] = time[0]\n",
        "        time[0] += 1\n",
        "        children = 0\n",
        "        for v in adj[u]:\n",
        "            if disc[v] is None:\n",
        "                parent[v] = u\n",
        "                stack.append((u, v))\n",
        "                dfs(v)\n",
        "                low[u] = min(low[u], low[v])\n",
        "                children += 1\n",
        "\n",
        "                if (parent[u] == -1 and children > 1) or (parent[u] != -1 and low[v] >= disc[u]):\n",
        "                    component = []\n",
        "                    while True:\n",
        "                        e = stack.pop()\n",
        "                        component.append(e)\n",
        "                        if e == (u, v) or e == (v, u):\n",
        "                            break\n",
        "                    bcc_list.append(component)\n",
        "            elif v != parent[u] and disc[v] < disc[u]:\n",
        "                low[u] = min(low[u], disc[v])\n",
        "                stack.append((u, v))\n",
        "\n",
        "    for i in range(V):\n",
        "        if disc[i] is None:\n",
        "            dfs(i)\n",
        "            if stack:\n",
        "                component = []\n",
        "                while stack:\n",
        "                    component.append(stack.pop())\n",
        "                bcc_list.append(component)\n",
        "\n",
        "    return bcc_list\n",
        "\n",
        "# Example Usage\n",
        "V = 5\n",
        "adj = [[] for _ in range(V)]\n",
        "edges = [(0,1),(1,2),(2,0),(1,3),(3,4)]\n",
        "for u, v in edges:\n",
        "    adj[u].append(v)\n",
        "    adj[v].append(u)\n",
        "\n",
        "bcc = biconnected_components(V, adj)\n",
        "count = 1\n",
        "for comp in bcc:\n",
        "    print(f\"Biconnected Component {count}:\", comp)\n",
        "    count += 1\n"
      ],
      "metadata": {
        "colab": {
          "base_uri": "https://localhost:8080/"
        },
        "id": "2lJtnGfQV--W",
        "outputId": "54011e63-d496-480d-aa32-762bc5e22a53"
      },
      "execution_count": null,
      "outputs": [
        {
          "output_type": "stream",
          "name": "stdout",
          "text": [
            "Biconnected Component 1: [(3, 4)]\n",
            "Biconnected Component 2: [(1, 3)]\n",
            "Biconnected Component 3: [(2, 0), (1, 2), (0, 1)]\n"
          ]
        }
      ]
    },
    {
      "cell_type": "markdown",
      "source": [
        "# 8. Tarjan’s Algorithm (SCC)"
      ],
      "metadata": {
        "id": "R8RQp3FeWRLZ"
      }
    },
    {
      "cell_type": "code",
      "source": [
        "# Final Code\n",
        "def tarjans_scc(V, adj):\n",
        "    index = [None] * V\n",
        "    lowlink = [None] * V\n",
        "    on_stack = [False] * V\n",
        "    stack = []\n",
        "    result = []\n",
        "    current_index = [0]\n",
        "\n",
        "    def strongconnect(v):\n",
        "        index[v] = lowlink[v] = current_index[0]\n",
        "        current_index[0] += 1\n",
        "        stack.append(v)\n",
        "        on_stack[v] = True\n",
        "\n",
        "        for w in adj[v]:\n",
        "            if index[w] is None:\n",
        "                strongconnect(w)\n",
        "                lowlink[v] = min(lowlink[v], lowlink[w])\n",
        "            elif on_stack[w]:\n",
        "                lowlink[v] = min(lowlink[v], index[w])\n",
        "\n",
        "        if lowlink[v] == index[v]:\n",
        "            component = []\n",
        "            while True:\n",
        "                w = stack.pop()\n",
        "                on_stack[w] = False\n",
        "                component.append(w)\n",
        "                if w == v:\n",
        "                    break\n",
        "            result.append(component)\n",
        "\n",
        "    for v in range(V):\n",
        "        if index[v] is None:\n",
        "            strongconnect(v)\n",
        "\n",
        "    return result\n",
        "\n",
        "# Example Usage\n",
        "V = 5\n",
        "adj = [[] for _ in range(V)]\n",
        "edges = [(1,0),(0,2),(2,1),(0,3),(3,4)]\n",
        "for u, v in edges:\n",
        "    adj[u].append(v)\n",
        "\n",
        "scc = tarjans_scc(V, adj)\n",
        "print(\"Strongly Connected Components:\", scc)\n"
      ],
      "metadata": {
        "colab": {
          "base_uri": "https://localhost:8080/"
        },
        "id": "KIdfAOnaWQwq",
        "outputId": "8be5c310-b4ed-4b48-d938-f56a6f3769fd"
      },
      "execution_count": null,
      "outputs": [
        {
          "output_type": "stream",
          "name": "stdout",
          "text": [
            "Strongly Connected Components: [[4], [3], [1, 2, 0]]\n"
          ]
        }
      ]
    },
    {
      "cell_type": "markdown",
      "source": [
        "# 9. 0/1 Knapsack (FIFO Branch and Bound)"
      ],
      "metadata": {
        "id": "OgwGRnXwWX_a"
      }
    },
    {
      "cell_type": "code",
      "source": [
        "# Final Code\n",
        "from collections import deque\n",
        "\n",
        "class Node:\n",
        "    def __init__(self, level, profit, weight, bound):\n",
        "        self.level = level\n",
        "        self.profit = profit\n",
        "        self.weight = weight\n",
        "        self.bound = bound\n",
        "\n",
        "def bound(node, n, W, profits, weights):\n",
        "    if node.weight >= W:\n",
        "        return 0\n",
        "    profit_bound = node.profit\n",
        "    j = node.level + 1\n",
        "    total_weight = node.weight\n",
        "    while j < n and total_weight + weights[j] <= W:\n",
        "        total_weight += weights[j]\n",
        "        profit_bound += profits[j]\n",
        "        j += 1\n",
        "    if j < n:\n",
        "        profit_bound += (W - total_weight) * (profits[j] / weights[j])\n",
        "    return profit_bound\n",
        "\n",
        "def knapsack_fifo(n, profits, weights, W):\n",
        "    queue = deque()\n",
        "    v = Node(-1, 0, 0, 0)\n",
        "    v.bound = bound(v, n, W, profits, weights)\n",
        "    max_profit = 0\n",
        "    queue.append(v)\n",
        "\n",
        "    while queue:\n",
        "        v = queue.popleft()\n",
        "        if v.level == n-1:\n",
        "            continue\n",
        "\n",
        "        u = Node(v.level+1, v.profit+profits[v.level+1], v.weight+weights[v.level+1], 0)\n",
        "        if u.weight <= W and u.profit > max_profit:\n",
        "            max_profit = u.profit\n",
        "        u.bound = bound(u, n, W, profits, weights)\n",
        "        if u.bound > max_profit:\n",
        "            queue.append(u)\n",
        "\n",
        "        u2 = Node(v.level+1, v.profit, v.weight, 0)\n",
        "        u2.bound = bound(u2, n, W, profits, weights)\n",
        "        if u2.bound > max_profit:\n",
        "            queue.append(u2)\n",
        "\n",
        "    return max_profit\n",
        "\n",
        "# Example Usage\n",
        "profits = [60, 100, 120]\n",
        "weights = [10, 20, 30]\n",
        "W = 50\n",
        "n = len(profits)\n",
        "max_profit = knapsack_fifo(n, profits, weights, W)\n",
        "print(\"Maximum Profit:\", max_profit)\n"
      ],
      "metadata": {
        "colab": {
          "base_uri": "https://localhost:8080/"
        },
        "id": "81yM2U5LWX1I",
        "outputId": "0cf7f73f-7cba-4704-ef34-8285a20a4276"
      },
      "execution_count": null,
      "outputs": [
        {
          "output_type": "stream",
          "name": "stdout",
          "text": [
            "Maximum Profit: 220\n"
          ]
        }
      ]
    },
    {
      "cell_type": "markdown",
      "source": [
        "# 10. TSP (Simplified Branch and Bound)"
      ],
      "metadata": {
        "id": "sF1UvkjMWnKt"
      }
    },
    {
      "cell_type": "code",
      "source": [
        "# Final Code\n",
        "import heapq\n",
        "\n",
        "def tsp_branch_and_bound(cost_matrix):\n",
        "    n = len(cost_matrix)\n",
        "    pq = []\n",
        "    heapq.heappush(pq, (0, [0]))\n",
        "    min_cost = float('inf')\n",
        "    best_path = []\n",
        "\n",
        "    while pq:\n",
        "        current_cost, path = heapq.heappop(pq)\n",
        "        u = path[-1]\n",
        "\n",
        "        if len(path) == n:\n",
        "            total_cost = current_cost + cost_matrix[u][0]\n",
        "            if total_cost < min_cost:\n",
        "                min_cost = total_cost\n",
        "                best_path = path + [0]\n",
        "            continue\n",
        "\n",
        "        for v in range(n):\n",
        "            if v not in path and cost_matrix[u][v] != float('inf'):\n",
        "                new_cost = current_cost + cost_matrix[u][v]\n",
        "                heapq.heappush(pq, (new_cost, path + [v]))\n",
        "\n",
        "    return min_cost, best_path\n",
        "\n",
        "# Example Usage\n",
        "cost_matrix = [\n",
        "    [float('inf'),10,15,20],\n",
        "    [10,float('inf'),35,25],\n",
        "    [15,35,float('inf'),30],\n",
        "    [20,25,30,float('inf')]\n",
        "]\n",
        "cost, path = tsp_branch_and_bound(cost_matrix)\n",
        "print(\"Minimum cost:\", cost)\n",
        "print(\"Path:\", path)\n"
      ],
      "metadata": {
        "colab": {
          "base_uri": "https://localhost:8080/"
        },
        "id": "zERCMxKEWmsp",
        "outputId": "74c6124d-0f88-438b-fdbf-0fe0b7e273d9"
      },
      "execution_count": null,
      "outputs": [
        {
          "output_type": "stream",
          "name": "stdout",
          "text": [
            "Minimum cost: 80\n",
            "Path: [0, 1, 3, 2, 0]\n"
          ]
        }
      ]
    },
    {
      "cell_type": "markdown",
      "source": [
        "# 11. Hamiltonian Cycle (Backtracking)"
      ],
      "metadata": {
        "id": "9vbtOlSkWtci"
      }
    },
    {
      "cell_type": "code",
      "source": [
        "# Final Code\n",
        "def is_safe(v, pos, path, graph):\n",
        "    if graph[path[pos-1]][v] == 0:\n",
        "        return False\n",
        "    if v in path:\n",
        "        return False\n",
        "    return True\n",
        "\n",
        "def hamiltonian_cycle_util(graph, path, pos):\n",
        "    if pos == len(graph):\n",
        "        return graph[path[pos-1]][path[0]] == 1\n",
        "    for v in range(1, len(graph)):\n",
        "        if is_safe(v, pos, path, graph):\n",
        "            path[pos] = v\n",
        "            if hamiltonian_cycle_util(graph, path, pos+1):\n",
        "                return True\n",
        "            path[pos] = -1\n",
        "    return False\n",
        "\n",
        "def hamiltonian_cycle(graph):\n",
        "    n = len(graph)\n",
        "    path = [-1] * n\n",
        "    path[0] = 0\n",
        "    if not hamiltonian_cycle_util(graph, path, 1):\n",
        "        print(\"No Hamiltonian Cycle found\")\n",
        "        return None\n",
        "    else:\n",
        "        path.append(0)\n",
        "        print(\"Hamiltonian Cycle:\", path)\n",
        "        return path\n",
        "\n",
        "# Example Usage\n",
        "graph = [\n",
        "    [0,1,0,1,0],\n",
        "    [1,0,1,1,1],\n",
        "    [0,1,0,0,1],\n",
        "    [1,1,0,0,1],\n",
        "    [0,1,1,1,0]\n",
        "]\n",
        "hamiltonian_cycle(graph)\n"
      ],
      "metadata": {
        "colab": {
          "base_uri": "https://localhost:8080/"
        },
        "id": "EBwbV0zxWtNz",
        "outputId": "3e9e4c41-9215-4a0f-c2b7-6074c9cfc6ed"
      },
      "execution_count": null,
      "outputs": [
        {
          "output_type": "stream",
          "name": "stdout",
          "text": [
            "Hamiltonian Cycle: [0, 1, 2, 4, 3, 0]\n"
          ]
        },
        {
          "output_type": "execute_result",
          "data": {
            "text/plain": [
              "[0, 1, 2, 4, 3, 0]"
            ]
          },
          "metadata": {},
          "execution_count": 12
        }
      ]
    },
    {
      "cell_type": "markdown",
      "source": [
        "# 12. Graph Coloring (Backtracking)"
      ],
      "metadata": {
        "id": "PYO_zH4uW2WV"
      }
    },
    {
      "cell_type": "code",
      "source": [
        "# Final Code\n",
        "def is_safe(node, graph, colors, color):\n",
        "    for neighbor in range(len(graph)):\n",
        "        if graph[node][neighbor] == 1 and colors[neighbor] == color:\n",
        "            return False\n",
        "    return True\n",
        "\n",
        "def graph_coloring_util(graph, m, colors, node):\n",
        "    if node == len(graph):\n",
        "        print(\"Coloring:\", colors)\n",
        "        return True\n",
        "    for color in range(1, m+1):\n",
        "        if is_safe(node, graph, colors, color):\n",
        "            colors[node] = color\n",
        "            if graph_coloring_util(graph, m, colors, node+1):\n",
        "                return True\n",
        "            colors[node] = 0\n",
        "    return False\n",
        "\n",
        "def graph_coloring(graph, m):\n",
        "    n = len(graph)\n",
        "    colors = [0] * n\n",
        "    if not graph_coloring_util(graph, m, colors, 0):\n",
        "        print(\"No valid coloring possible with\", m, \"colors.\")\n",
        "        return None\n",
        "    else:\n",
        "        return colors\n",
        "\n",
        "# Example Usage\n",
        "graph = [\n",
        "    [0,1,1,1],\n",
        "    [1,0,1,0],\n",
        "    [1,1,0,1],\n",
        "    [1,0,1,0]\n",
        "]\n",
        "m = 3\n",
        "graph_coloring(graph, m)"
      ],
      "metadata": {
        "colab": {
          "base_uri": "https://localhost:8080/"
        },
        "id": "uq0ryEjrW2LQ",
        "outputId": "35c3f624-7b25-41ad-a18f-324df8a8c6f3"
      },
      "execution_count": null,
      "outputs": [
        {
          "output_type": "stream",
          "name": "stdout",
          "text": [
            "Coloring: [1, 2, 3, 2]\n"
          ]
        },
        {
          "output_type": "execute_result",
          "data": {
            "text/plain": [
              "[1, 2, 3, 2]"
            ]
          },
          "metadata": {},
          "execution_count": 13
        }
      ]
    },
    {
      "cell_type": "markdown",
      "source": [
        "# 13. Prims algorithm"
      ],
      "metadata": {
        "id": "ZLRGxhfY5L2Q"
      }
    },
    {
      "cell_type": "code",
      "source": [
        "import heapq\n",
        "\n",
        "def prims_algorithm(graph, V):\n",
        "    visited = [False] * V\n",
        "    min_heap = [(0, 0)]  # (weight, vertex)\n",
        "    total_cost = 0\n",
        "\n",
        "    while min_heap:\n",
        "        weight, u = heapq.heappop(min_heap)\n",
        "        if visited[u]:\n",
        "            continue\n",
        "        visited[u] = True\n",
        "        total_cost += weight\n",
        "\n",
        "        for v, w in graph[u]:\n",
        "            if not visited[v]:\n",
        "                heapq.heappush(min_heap, (w, v))\n",
        "\n",
        "    return total_cost\n",
        "V = 5\n",
        "graph = {\n",
        "    0: [(1, 2), (3, 6)],\n",
        "    1: [(0, 2), (2, 3), (3, 8), (4, 5)],\n",
        "    2: [(1, 3), (4, 7)],\n",
        "    3: [(0, 6), (1, 8)],\n",
        "    4: [(1, 5), (2, 7)]\n",
        "}\n",
        "print(\"Minimum Spanning Tree Cost:\", prims_algorithm(graph, V))"
      ],
      "metadata": {
        "colab": {
          "base_uri": "https://localhost:8080/"
        },
        "id": "lkTyKsIY5PDO",
        "outputId": "5e99774a-dfd1-4c7d-9356-c3fb00470f82"
      },
      "execution_count": null,
      "outputs": [
        {
          "output_type": "stream",
          "name": "stdout",
          "text": [
            "Minimum Spanning Tree Cost: 16\n"
          ]
        }
      ]
    },
    {
      "cell_type": "markdown",
      "source": [
        "# 14. Kruskal algorithm"
      ],
      "metadata": {
        "id": "gcfLpJDR5UGL"
      }
    },
    {
      "cell_type": "code",
      "source": [
        "class DisjointSet:\n",
        "    def __init__(self, n):\n",
        "        self.parent = list(range(n))\n",
        "\n",
        "    def find(self, u):\n",
        "        if self.parent[u] != u:\n",
        "            self.parent[u] = self.find(self.parent[u])\n",
        "        return self.parent[u]\n",
        "\n",
        "    def union(self, u, v):\n",
        "        pu = self.find(u)\n",
        "        pv = self.find(v)\n",
        "        if pu != pv:\n",
        "            self.parent[pu] = pv\n",
        "\n",
        "def kruskals_algorithm(V, edges):\n",
        "    ds = DisjointSet(V)\n",
        "    edges.sort(key=lambda x: x[2])  # sort by weight\n",
        "    mst = []\n",
        "    min_cost = 0\n",
        "    for u, v, w in edges:\n",
        "        if ds.find(u) != ds.find(v):\n",
        "            ds.union(u, v)\n",
        "            mst.append((u, v, w))\n",
        "            min_cost += w\n",
        "    return min_cost, mst"
      ],
      "metadata": {
        "id": "LzqsU2475WnG"
      },
      "execution_count": null,
      "outputs": []
    }
  ]
}