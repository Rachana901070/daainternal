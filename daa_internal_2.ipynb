{
  "nbformat": 4,
  "nbformat_minor": 0,
  "metadata": {
    "colab": {
      "provenance": [],
      "include_colab_link": true
    },
    "kernelspec": {
      "name": "python3",
      "display_name": "Python 3"
    },
    "language_info": {
      "name": "python"
    }
  },
  "cells": [
    {
      "cell_type": "markdown",
      "metadata": {
        "id": "view-in-github",
        "colab_type": "text"
      },
      "source": [
        "<a href=\"https://colab.research.google.com/github/Rachana901070/daainternal/blob/main/daa_internal_2.ipynb\" target=\"_parent\"><img src=\"https://colab.research.google.com/assets/colab-badge.svg\" alt=\"Open In Colab\"/></a>"
      ]
    },
    {
      "cell_type": "markdown",
      "source": [
        "# 1. Dijkstra's Algorithm\n",
        "\n",
        "\n",
        "\n"
      ],
      "metadata": {
        "id": "8tuu3W1UUoYn"
      }
    },
    {
      "cell_type": "code",
      "execution_count": 24,
      "metadata": {
        "colab": {
          "base_uri": "https://localhost:8080/"
        },
        "id": "FSQjRokcHfwe",
        "outputId": "68ebaaf4-7997-4ebd-f74d-117d9635fc3b"
      },
      "outputs": [
        {
          "output_type": "stream",
          "name": "stdout",
          "text": [
            "Vertex 0: Distance = 0, Path = [0]\n",
            "Vertex 1: Distance = 4, Path = [0, 1]\n",
            "Vertex 2: Distance = 12, Path = [0, 1, 2]\n",
            "Vertex 3: Distance = 19, Path = [0, 1, 2, 3]\n",
            "Vertex 4: Distance = 21, Path = [0, 7, 6, 5, 4]\n",
            "Vertex 5: Distance = 11, Path = [0, 7, 6, 5]\n",
            "Vertex 6: Distance = 9, Path = [0, 7, 6]\n",
            "Vertex 7: Distance = 8, Path = [0, 7]\n",
            "Vertex 8: Distance = 14, Path = [0, 1, 2, 8]\n"
          ]
        }
      ],
      "source": [
        "# Final Code\n",
        "def dijkstra(graph, start):\n",
        "    n = len(graph)\n",
        "    visited = [False] * n\n",
        "    dist = [float('inf')] * n\n",
        "    prev = [None] * n\n",
        "    dist[start] = 0\n",
        "\n",
        "    for _ in range(n):\n",
        "        min_dist = float('inf')\n",
        "        u = -1\n",
        "        for i in range(n):\n",
        "            if not visited[i] and dist[i] < min_dist:\n",
        "                min_dist = dist[i]\n",
        "                u = i\n",
        "        if u == -1:\n",
        "            break\n",
        "        visited[u] = True\n",
        "        for v in range(n):\n",
        "            if graph[u][v] != 0 and not visited[v]:\n",
        "                if dist[u] + graph[u][v] < dist[v]:\n",
        "                    dist[v] = dist[u] + graph[u][v]\n",
        "                    prev[v] = u\n",
        "    return dist, prev\n",
        "\n",
        "def print_path(prev, v):\n",
        "    path = []\n",
        "    while v is not None:\n",
        "        path.append(v)\n",
        "        v = prev[v]\n",
        "    path.reverse()\n",
        "    return path\n",
        "\n",
        "# Example Usage\n",
        "graph = [\n",
        "    [0,4,0,0,0,0,0,8,0],\n",
        "    [4,0,8,0,0,0,0,11,0],\n",
        "    [0,8,0,7,0,4,0,0,2],\n",
        "    [0,0,7,0,9,14,0,0,0],\n",
        "    [0,0,0,9,0,10,0,0,0],\n",
        "    [0,0,4,14,10,0,2,0,0],\n",
        "    [0,0,0,0,0,2,0,1,6],\n",
        "    [8,11,0,0,0,0,1,0,7],\n",
        "    [0,0,2,0,0,0,6,7,0]\n",
        "]\n",
        "start = 0\n",
        "dist, prev = dijkstra(graph, start)\n",
        "\n",
        "for v in range(len(dist)):\n",
        "    path = print_path(prev, v)\n",
        "    print(f\"Vertex {v}: Distance = {dist[v]}, Path = {path}\")"
      ]
    },
    {
      "cell_type": "markdown",
      "source": [
        "# 2. Bellman-Ford Algorithm"
      ],
      "metadata": {
        "id": "IyWsiRjGU9So"
      }
    },
    {
      "cell_type": "code",
      "source": [
        "# Final Code\n",
        "def bellman_ford(V, edges, start):\n",
        "    dist = [float('inf')] * V\n",
        "    prev = [None] * V\n",
        "    dist[start] = 0\n",
        "\n",
        "    for _ in range(V-1):\n",
        "        for u, v, w in edges:\n",
        "            if dist[u] + w < dist[v]:\n",
        "                dist[v] = dist[u] + w\n",
        "                prev[v] = u\n",
        "\n",
        "    for u, v, w in edges:\n",
        "        if dist[u] + w < dist[v]:\n",
        "            print(\"Graph contains a negative weight cycle\")\n",
        "            return None, None\n",
        "\n",
        "    return dist, prev\n",
        "\n",
        "def print_path(prev, v):\n",
        "    path = []\n",
        "    while v is not None:\n",
        "        path.append(v)\n",
        "        v = prev[v]\n",
        "    path.reverse()\n",
        "    return path\n",
        "\n",
        "# Example Usage\n",
        "edges = [(0,1,4),(0,2,5),(1,2,-3),(2,3,4),(3,1,6)]\n",
        "V = 4\n",
        "start = 0\n",
        "dist, prev = bellman_ford(V, edges, start)\n",
        "\n",
        "if dist:\n",
        "    print(f\"Shortest distances from vertex {start}:\")\n",
        "    for v in range(V):\n",
        "        path = print_path(prev, v)\n",
        "        print(f\"Vertex {v}: Distance = {dist[v]}, Path = {path}\")\n"
      ],
      "metadata": {
        "colab": {
          "base_uri": "https://localhost:8080/"
        },
        "id": "6Tf_LLWjUYr9",
        "outputId": "c3afafb6-1ce3-4ef4-b0b6-2e1ab1e0f93e"
      },
      "execution_count": 25,
      "outputs": [
        {
          "output_type": "stream",
          "name": "stdout",
          "text": [
            "Shortest distances from vertex 0:\n",
            "Vertex 0: Distance = 0, Path = [0]\n",
            "Vertex 1: Distance = 4, Path = [0, 1]\n",
            "Vertex 2: Distance = 1, Path = [0, 1, 2]\n",
            "Vertex 3: Distance = 5, Path = [0, 1, 2, 3]\n"
          ]
        }
      ]
    },
    {
      "cell_type": "markdown",
      "source": [
        "# 3. Topological Sort (DFS)"
      ],
      "metadata": {
        "id": "JyiuGltNVRXU"
      }
    },
    {
      "cell_type": "code",
      "source": [
        "# Final Code\n",
        "def dfs_topological_sort(V, adj):\n",
        "    visited = [False] * V\n",
        "    stack = []\n",
        "\n",
        "    def dfs(u):\n",
        "        visited[u] = True\n",
        "        for v in adj[u]:\n",
        "            if not visited[v]:\n",
        "                dfs(v)\n",
        "        stack.append(u)\n",
        "\n",
        "    for i in range(V):\n",
        "        if not visited[i]:\n",
        "            dfs(i)\n",
        "\n",
        "    return stack[::-1]\n",
        "\n",
        "# Example Usage\n",
        "V = 6\n",
        "adj = [[] for _ in range(V)]\n",
        "edges = [(5,2),(5,0),(4,0),(4,1),(2,3),(3,1)]\n",
        "for u, v in edges:\n",
        "    adj[u].append(v)\n",
        "\n",
        "order = dfs_topological_sort(V, adj)\n",
        "print(\"Topological Order:\", order)\n"
      ],
      "metadata": {
        "colab": {
          "base_uri": "https://localhost:8080/"
        },
        "id": "4W9xvpOiVSWM",
        "outputId": "16467be3-6ad2-4907-b77c-63d1cd1a14b5"
      },
      "execution_count": 26,
      "outputs": [
        {
          "output_type": "stream",
          "name": "stdout",
          "text": [
            "Topological Order: [5, 4, 2, 3, 1, 0]\n"
          ]
        }
      ]
    },
    {
      "cell_type": "markdown",
      "source": [
        "# 4. Johnson's Algorithm"
      ],
      "metadata": {
        "id": "YX_uIbN4VheE"
      }
    },
    {
      "cell_type": "code",
      "source": [
        "# Final Code\n",
        "def bellman_ford(V, edges, source):\n",
        "    dist = [float('inf')] * V\n",
        "    dist[source] = 0\n",
        "    for _ in range(V - 1):\n",
        "        for u, v, w in edges:\n",
        "            if dist[u] + w < dist[v]:\n",
        "                dist[v] = dist[u] + w\n",
        "    for u, v, w in edges:\n",
        "        if dist[u] + w < dist[v]:\n",
        "            return None\n",
        "    return dist\n",
        "\n",
        "def simple_dijkstra(V, adj, source):\n",
        "    visited = [False] * V\n",
        "    dist = [float('inf')] * V\n",
        "    dist[source] = 0\n",
        "    for _ in range(V):\n",
        "        u = -1\n",
        "        min_dist = float('inf')\n",
        "        for i in range(V):\n",
        "            if not visited[i] and dist[i] < min_dist:\n",
        "                min_dist = dist[i]\n",
        "                u = i\n",
        "        if u == -1:\n",
        "            break\n",
        "        visited[u] = True\n",
        "        for v, w in adj[u]:\n",
        "            if not visited[v] and dist[u] + w < dist[v]:\n",
        "                dist[v] = dist[u] + w\n",
        "    return dist\n",
        "\n",
        "def johnsons_algorithm(V, edges):\n",
        "    new_edges = edges + [(V, v, 0) for v in range(V)]\n",
        "    h = bellman_ford(V + 1, new_edges, V)\n",
        "    if h is None:\n",
        "        print(\"Graph contains a negative weight cycle\")\n",
        "        return None\n",
        "\n",
        "    reweighted_adj = [[] for _ in range(V)]\n",
        "    for u, v, w in edges:\n",
        "        reweighted_adj[u].append((v, w + h[u] - h[v]))\n",
        "\n",
        "    all_pairs = []\n",
        "    for u in range(V):\n",
        "        d = simple_dijkstra(V, reweighted_adj, u)\n",
        "        d = [d[v] + h[v] - h[u] if d[v] != float('inf') else float('inf') for v in range(V)]\n",
        "        all_pairs.append(d)\n",
        "    return all_pairs\n",
        "\n",
        "# Example Usage\n",
        "edges = [(0,1,-2),(1,2,3),(2,0,1)]\n",
        "V = 3\n",
        "shortest_paths = johnsons_algorithm(V, edges)\n",
        "\n",
        "if shortest_paths:\n",
        "    for u in range(V):\n",
        "        print(f\"Distances from {u}: {shortest_paths[u]}\")\n"
      ],
      "metadata": {
        "colab": {
          "base_uri": "https://localhost:8080/"
        },
        "id": "1oIVqdZsVQb7",
        "outputId": "147d4602-2901-4d5a-984f-845cd971ff4e"
      },
      "execution_count": 27,
      "outputs": [
        {
          "output_type": "stream",
          "name": "stdout",
          "text": [
            "Distances from 0: [0, -2, 1]\n",
            "Distances from 1: [4, 0, 3]\n",
            "Distances from 2: [1, -1, 0]\n"
          ]
        }
      ]
    },
    {
      "cell_type": "markdown",
      "source": [
        "# 5. Topological Sort (Source Elimination - Kahn’s Algorithm)"
      ],
      "metadata": {
        "id": "Xlh2vXrvVpAH"
      }
    },
    {
      "cell_type": "code",
      "source": [
        "# Final Code\n",
        "def kahn_topological_sort(V, adj):\n",
        "    indegree = [0] * V\n",
        "    for u in range(V):\n",
        "        for v in adj[u]:\n",
        "            indegree[v] += 1\n",
        "\n",
        "    queue = []\n",
        "    for i in range(V):\n",
        "        if indegree[i] == 0:\n",
        "            queue.append(i)\n",
        "\n",
        "    topo_order = []\n",
        "    while queue:\n",
        "        u = queue.pop(0)\n",
        "        topo_order.append(u)\n",
        "        for v in adj[u]:\n",
        "            indegree[v] -= 1\n",
        "            if indegree[v] == 0:\n",
        "                queue.append(v)\n",
        "\n",
        "    if len(topo_order) == V:\n",
        "        return topo_order\n",
        "    else:\n",
        "        print(\"Cycle detected! Topological sort not possible.\")\n",
        "        return None\n",
        "\n",
        "# Example Usage\n",
        "V = 6\n",
        "adj = [[] for _ in range(V)]\n",
        "edges = [(5,2),(5,0),(4,0),(4,1),(2,3),(3,1)]\n",
        "for u, v in edges:\n",
        "    adj[u].append(v)\n",
        "\n",
        "order = kahn_topological_sort(V, adj)\n",
        "if order:\n",
        "    print(\"Topological Order:\", order)\n"
      ],
      "metadata": {
        "colab": {
          "base_uri": "https://localhost:8080/"
        },
        "id": "x2mNDkXKVopi",
        "outputId": "22723c4c-cb0d-4a37-ce1f-b5d359c19fae"
      },
      "execution_count": 28,
      "outputs": [
        {
          "output_type": "stream",
          "name": "stdout",
          "text": [
            "Topological Order: [4, 5, 2, 0, 3, 1]\n"
          ]
        }
      ]
    },
    {
      "cell_type": "markdown",
      "source": [
        "# 6. Kosaraju’s Algorithm"
      ],
      "metadata": {
        "id": "fdprXh3uV2y8"
      }
    },
    {
      "cell_type": "code",
      "source": [
        "# Final Code\n",
        "def kosaraju_scc(V, adj):\n",
        "    visited = [False] * V\n",
        "    stack = []\n",
        "\n",
        "    def dfs1(u):\n",
        "        visited[u] = True\n",
        "        for v in adj[u]:\n",
        "            if not visited[v]:\n",
        "                dfs1(v)\n",
        "        stack.append(u)\n",
        "\n",
        "    def dfs2(u, transpose_adj, component):\n",
        "        visited[u] = True\n",
        "        component.append(u)\n",
        "        for v in transpose_adj[u]:\n",
        "            if not visited[v]:\n",
        "                dfs2(v, transpose_adj, component)\n",
        "\n",
        "    for i in range(V):\n",
        "        if not visited[i]:\n",
        "            dfs1(i)\n",
        "\n",
        "    transpose_adj = [[] for _ in range(V)]\n",
        "    for u in range(V):\n",
        "        for v in adj[u]:\n",
        "            transpose_adj[v].append(u)\n",
        "\n",
        "    visited = [False] * V\n",
        "    scc_list = []\n",
        "\n",
        "    while stack:\n",
        "        u = stack.pop()\n",
        "        if not visited[u]:\n",
        "            component = []\n",
        "            dfs2(u, transpose_adj, component)\n",
        "            scc_list.append(component)\n",
        "\n",
        "    return scc_list\n",
        "\n",
        "# Example Usage\n",
        "V = 5\n",
        "adj = [[] for _ in range(V)]\n",
        "edges = [(1,0),(0,2),(2,1),(0,3),(3,4)]\n",
        "for u, v in edges:\n",
        "    adj[u].append(v)\n",
        "\n",
        "scc = kosaraju_scc(V, adj)\n",
        "print(\"Strongly Connected Components:\", scc)\n"
      ],
      "metadata": {
        "colab": {
          "base_uri": "https://localhost:8080/"
        },
        "id": "e3uJRxqlV2jT",
        "outputId": "56777bbd-0019-434a-9ccb-fc45e9c94e76"
      },
      "execution_count": 29,
      "outputs": [
        {
          "output_type": "stream",
          "name": "stdout",
          "text": [
            "Strongly Connected Components: [[0, 1, 2], [3], [4]]\n"
          ]
        }
      ]
    },
    {
      "cell_type": "markdown",
      "source": [
        "# 7. Biconnected Components (BCC)"
      ],
      "metadata": {
        "id": "hNJosZq0V_MZ"
      }
    },
    {
      "cell_type": "code",
      "source": [
        "# Final Code\n",
        "def biconnected_components(V, adj):\n",
        "    disc = [None] * V\n",
        "    low = [None] * V\n",
        "    parent = [-1] * V\n",
        "    time = [0]\n",
        "    stack = []\n",
        "    bcc_list = []\n",
        "\n",
        "    def dfs(u):\n",
        "        disc[u] = low[u] = time[0]\n",
        "        time[0] += 1\n",
        "        children = 0\n",
        "        for v in adj[u]:\n",
        "            if disc[v] is None:\n",
        "                parent[v] = u\n",
        "                stack.append((u, v))\n",
        "                dfs(v)\n",
        "                low[u] = min(low[u], low[v])\n",
        "                children += 1\n",
        "\n",
        "                if (parent[u] == -1 and children > 1) or (parent[u] != -1 and low[v] >= disc[u]):\n",
        "                    component = []\n",
        "                    while True:\n",
        "                        e = stack.pop()\n",
        "                        component.append(e)\n",
        "                        if e == (u, v) or e == (v, u):\n",
        "                            break\n",
        "                    bcc_list.append(component)\n",
        "            elif v != parent[u] and disc[v] < disc[u]:\n",
        "                low[u] = min(low[u], disc[v])\n",
        "                stack.append((u, v))\n",
        "\n",
        "    for i in range(V):\n",
        "        if disc[i] is None:\n",
        "            dfs(i)\n",
        "            if stack:\n",
        "                component = []\n",
        "                while stack:\n",
        "                    component.append(stack.pop())\n",
        "                bcc_list.append(component)\n",
        "\n",
        "    return bcc_list\n",
        "\n",
        "# Example Usage\n",
        "V = 5\n",
        "adj = [[] for _ in range(V)]\n",
        "edges = [(0,1),(1,2),(2,0),(1,3),(3,4)]\n",
        "for u, v in edges:\n",
        "    adj[u].append(v)\n",
        "    adj[v].append(u)\n",
        "\n",
        "bcc = biconnected_components(V, adj)\n",
        "count = 1\n",
        "for comp in bcc:\n",
        "    print(f\"Biconnected Component {count}:\", comp)\n",
        "    count += 1\n"
      ],
      "metadata": {
        "colab": {
          "base_uri": "https://localhost:8080/"
        },
        "id": "2lJtnGfQV--W",
        "outputId": "dee00e3d-132b-4c89-f785-cf9e2ad68bf2"
      },
      "execution_count": 30,
      "outputs": [
        {
          "output_type": "stream",
          "name": "stdout",
          "text": [
            "Biconnected Component 1: [(3, 4)]\n",
            "Biconnected Component 2: [(1, 3)]\n",
            "Biconnected Component 3: [(2, 0), (1, 2), (0, 1)]\n"
          ]
        }
      ]
    },
    {
      "cell_type": "markdown",
      "source": [
        "# 8. Tarjan’s Algorithm (SCC)"
      ],
      "metadata": {
        "id": "R8RQp3FeWRLZ"
      }
    },
    {
      "cell_type": "code",
      "source": [
        "# Final Code\n",
        "def tarjans_scc(V, adj):\n",
        "    index = [None] * V\n",
        "    lowlink = [None] * V\n",
        "    on_stack = [False] * V\n",
        "    stack = []\n",
        "    result = []\n",
        "    current_index = [0]\n",
        "\n",
        "    def strongconnect(v):\n",
        "        index[v] = lowlink[v] = current_index[0]\n",
        "        current_index[0] += 1\n",
        "        stack.append(v)\n",
        "        on_stack[v] = True\n",
        "\n",
        "        for w in adj[v]:\n",
        "            if index[w] is None:\n",
        "                strongconnect(w)\n",
        "                lowlink[v] = min(lowlink[v], lowlink[w])\n",
        "            elif on_stack[w]:\n",
        "                lowlink[v] = min(lowlink[v], index[w])\n",
        "\n",
        "        if lowlink[v] == index[v]:\n",
        "            component = []\n",
        "            while True:\n",
        "                w = stack.pop()\n",
        "                on_stack[w] = False\n",
        "                component.append(w)\n",
        "                if w == v:\n",
        "                    break\n",
        "            result.append(component)\n",
        "\n",
        "    for v in range(V):\n",
        "        if index[v] is None:\n",
        "            strongconnect(v)\n",
        "\n",
        "    return result\n",
        "\n",
        "# Example Usage\n",
        "V = 5\n",
        "adj = [[] for _ in range(V)]\n",
        "edges = [(1,0),(0,2),(2,1),(0,3),(3,4)]\n",
        "for u, v in edges:\n",
        "    adj[u].append(v)\n",
        "\n",
        "scc = tarjans_scc(V, adj)\n",
        "print(\"Strongly Connected Components:\", scc)\n"
      ],
      "metadata": {
        "colab": {
          "base_uri": "https://localhost:8080/"
        },
        "id": "KIdfAOnaWQwq",
        "outputId": "d924a5e8-0454-434f-c41a-7f693f7297a9"
      },
      "execution_count": 31,
      "outputs": [
        {
          "output_type": "stream",
          "name": "stdout",
          "text": [
            "Strongly Connected Components: [[4], [3], [1, 2, 0]]\n"
          ]
        }
      ]
    },
    {
      "cell_type": "markdown",
      "source": [
        "# 9. 0/1 Knapsack (FIFO Branch and Bound)"
      ],
      "metadata": {
        "id": "OgwGRnXwWX_a"
      }
    },
    {
      "cell_type": "code",
      "source": [
        "from collections import deque\n",
        "\n",
        "class Node:\n",
        "    def __init__(self, level, profit, weight, bound, path):\n",
        "        self.level = level\n",
        "        self.profit = profit\n",
        "        self.weight = weight\n",
        "        self.bound = bound\n",
        "        self.path = path  # Track items included\n",
        "\n",
        "def bound(node, n, W, profits, weights):\n",
        "    if node.weight >= W:\n",
        "        return 0\n",
        "    profit_bound = node.profit\n",
        "    j = node.level + 1\n",
        "    total_weight = node.weight\n",
        "    while j < n and total_weight + weights[j] <= W:\n",
        "        total_weight += weights[j]\n",
        "        profit_bound += profits[j]\n",
        "        j += 1\n",
        "    if j < n:\n",
        "        profit_bound += (W - total_weight) * (profits[j] / weights[j])\n",
        "    return profit_bound\n",
        "\n",
        "def knapsack_fifo(n, profits, weights, W):\n",
        "    queue = deque()\n",
        "    v = Node(-1, 0, 0, 0, [])\n",
        "    v.bound = bound(v, n, W, profits, weights)\n",
        "    max_profit = 0\n",
        "    best_path = []\n",
        "    queue.append(v)\n",
        "\n",
        "    while queue:\n",
        "        v = queue.popleft()\n",
        "        if v.level == n - 1:\n",
        "            continue\n",
        "\n",
        "        next_level = v.level + 1\n",
        "\n",
        "        # Include next item\n",
        "        path_with = v.path + [1]\n",
        "        u = Node(next_level,\n",
        "                 v.profit + profits[next_level],\n",
        "                 v.weight + weights[next_level],\n",
        "                 0, path_with)\n",
        "\n",
        "        if u.weight <= W and u.profit > max_profit:\n",
        "            max_profit = u.profit\n",
        "            best_path = u.path\n",
        "\n",
        "        u.bound = bound(u, n, W, profits, weights)\n",
        "        if u.bound > max_profit:\n",
        "            queue.append(u)\n",
        "\n",
        "        # Exclude next item\n",
        "        path_without = v.path + [0]\n",
        "        u2 = Node(next_level, v.profit, v.weight, 0, path_without)\n",
        "        u2.bound = bound(u2, n, W, profits, weights)\n",
        "        if u2.bound > max_profit:\n",
        "            queue.append(u2)\n",
        "\n",
        "    return max_profit, best_path\n",
        "\n",
        "# Example Usage\n",
        "profits = [60, 100, 120]\n",
        "weights = [10, 20, 30]\n",
        "W = 50\n",
        "n = len(profits)\n",
        "max_profit, solution_vector = knapsack_fifo(n, profits, weights, W)\n",
        "print(\"Maximum Profit:\", max_profit)\n",
        "print(\"Solution Vector (1=included, 0=excluded):\", solution_vector)\n"
      ],
      "metadata": {
        "colab": {
          "base_uri": "https://localhost:8080/"
        },
        "id": "81yM2U5LWX1I",
        "outputId": "97fc5e49-b0c7-4264-e9e9-379cecaaf9c7"
      },
      "execution_count": 32,
      "outputs": [
        {
          "output_type": "stream",
          "name": "stdout",
          "text": [
            "Maximum Profit: 220\n",
            "Solution Vector (1=included, 0=excluded): [0, 1, 1]\n"
          ]
        }
      ]
    },
    {
      "cell_type": "markdown",
      "source": [
        "# 10. TSP (Simplified Branch and Bound)"
      ],
      "metadata": {
        "id": "sF1UvkjMWnKt"
      }
    },
    {
      "cell_type": "code",
      "source": [
        "# Final Code\n",
        "import heapq\n",
        "\n",
        "def tsp_branch_and_bound(cost_matrix):\n",
        "    n = len(cost_matrix)\n",
        "    pq = []\n",
        "    heapq.heappush(pq, (0, [0]))\n",
        "    min_cost = float('inf')\n",
        "    best_path = []\n",
        "\n",
        "    while pq:\n",
        "        current_cost, path = heapq.heappop(pq)\n",
        "        u = path[-1]\n",
        "\n",
        "        if len(path) == n:\n",
        "            total_cost = current_cost + cost_matrix[u][0]\n",
        "            if total_cost < min_cost:\n",
        "                min_cost = total_cost\n",
        "                best_path = path + [0]\n",
        "            continue\n",
        "\n",
        "        for v in range(n):\n",
        "            if v not in path and cost_matrix[u][v] != float('inf'):\n",
        "                new_cost = current_cost + cost_matrix[u][v]\n",
        "                heapq.heappush(pq, (new_cost, path + [v]))\n",
        "\n",
        "    return min_cost, best_path\n",
        "\n",
        "# Example Usage\n",
        "cost_matrix = [\n",
        "    [float('inf'),10,15,20],\n",
        "    [10,float('inf'),35,25],\n",
        "    [15,35,float('inf'),30],\n",
        "    [20,25,30,float('inf')]\n",
        "]\n",
        "cost, path = tsp_branch_and_bound(cost_matrix)\n",
        "print(\"Minimum cost:\", cost)\n",
        "print(\"Path:\", path)\n"
      ],
      "metadata": {
        "colab": {
          "base_uri": "https://localhost:8080/"
        },
        "id": "zERCMxKEWmsp",
        "outputId": "10cb1b03-9280-4804-9788-9af115296b06"
      },
      "execution_count": 33,
      "outputs": [
        {
          "output_type": "stream",
          "name": "stdout",
          "text": [
            "Minimum cost: 80\n",
            "Path: [0, 1, 3, 2, 0]\n"
          ]
        }
      ]
    },
    {
      "cell_type": "markdown",
      "source": [
        "# 11. Hamiltonian Cycle (Backtracking)"
      ],
      "metadata": {
        "id": "9vbtOlSkWtci"
      }
    },
    {
      "cell_type": "code",
      "source": [
        "# Final Code\n",
        "def is_safe(v, pos, path, graph):\n",
        "    if graph[path[pos-1]][v] == 0:\n",
        "        return False\n",
        "    if v in path:\n",
        "        return False\n",
        "    return True\n",
        "\n",
        "def hamiltonian_cycle_util(graph, path, pos):\n",
        "    if pos == len(graph):\n",
        "        return graph[path[pos-1]][path[0]] == 1\n",
        "    for v in range(1, len(graph)):\n",
        "        if is_safe(v, pos, path, graph):\n",
        "            path[pos] = v\n",
        "            if hamiltonian_cycle_util(graph, path, pos+1):\n",
        "                return True\n",
        "            path[pos] = -1\n",
        "    return False\n",
        "\n",
        "def hamiltonian_cycle(graph):\n",
        "    n = len(graph)\n",
        "    path = [-1] * n\n",
        "    path[0] = 0\n",
        "    if not hamiltonian_cycle_util(graph, path, 1):\n",
        "        print(\"No Hamiltonian Cycle found\")\n",
        "        return None\n",
        "    else:\n",
        "        path.append(0)\n",
        "        print(\"Hamiltonian Cycle:\", path)\n",
        "        return path\n",
        "\n",
        "# Example Usage\n",
        "graph = [\n",
        "    [0,1,0,1,0],\n",
        "    [1,0,1,1,1],\n",
        "    [0,1,0,0,1],\n",
        "    [1,1,0,0,1],\n",
        "    [0,1,1,1,0]\n",
        "]\n",
        "hamiltonian_cycle(graph)\n"
      ],
      "metadata": {
        "colab": {
          "base_uri": "https://localhost:8080/"
        },
        "id": "EBwbV0zxWtNz",
        "outputId": "32a8a789-600d-4414-a8e2-4b47e5e5f3fc"
      },
      "execution_count": 34,
      "outputs": [
        {
          "output_type": "stream",
          "name": "stdout",
          "text": [
            "Hamiltonian Cycle: [0, 1, 2, 4, 3, 0]\n"
          ]
        },
        {
          "output_type": "execute_result",
          "data": {
            "text/plain": [
              "[0, 1, 2, 4, 3, 0]"
            ]
          },
          "metadata": {},
          "execution_count": 34
        }
      ]
    },
    {
      "cell_type": "markdown",
      "source": [
        "# 12. Graph Coloring (Backtracking)"
      ],
      "metadata": {
        "id": "PYO_zH4uW2WV"
      }
    },
    {
      "cell_type": "code",
      "source": [
        "# Final Code\n",
        "def is_safe(node, graph, colors, color):\n",
        "    for neighbor in range(len(graph)):\n",
        "        if graph[node][neighbor] == 1 and colors[neighbor] == color:\n",
        "            return False\n",
        "    return True\n",
        "\n",
        "def graph_coloring_util(graph, m, colors, node):\n",
        "    if node == len(graph):\n",
        "        print(\"Coloring:\", colors)\n",
        "        return True\n",
        "    for color in range(1, m+1):\n",
        "        if is_safe(node, graph, colors, color):\n",
        "            colors[node] = color\n",
        "            if graph_coloring_util(graph, m, colors, node+1):\n",
        "                return True\n",
        "            colors[node] = 0\n",
        "    return False\n",
        "\n",
        "def graph_coloring(graph, m):\n",
        "    n = len(graph)\n",
        "    colors = [0] * n\n",
        "    if not graph_coloring_util(graph, m, colors, 0):\n",
        "        print(\"No valid coloring possible with\", m, \"colors.\")\n",
        "        return None\n",
        "    else:\n",
        "        return colors\n",
        "\n",
        "# Example Usage\n",
        "graph = [\n",
        "    [0,1,1,1],\n",
        "    [1,0,1,0],\n",
        "    [1,1,0,1],\n",
        "    [1,0,1,0]\n",
        "]\n",
        "m = 3\n",
        "graph_coloring(graph, m)"
      ],
      "metadata": {
        "colab": {
          "base_uri": "https://localhost:8080/"
        },
        "id": "uq0ryEjrW2LQ",
        "outputId": "ac707e54-91fe-40ac-fab5-3b83590e1ed2"
      },
      "execution_count": 35,
      "outputs": [
        {
          "output_type": "stream",
          "name": "stdout",
          "text": [
            "Coloring: [1, 2, 3, 2]\n"
          ]
        },
        {
          "output_type": "execute_result",
          "data": {
            "text/plain": [
              "[1, 2, 3, 2]"
            ]
          },
          "metadata": {},
          "execution_count": 35
        }
      ]
    },
    {
      "cell_type": "markdown",
      "source": [
        "# 13. Prims algorithm"
      ],
      "metadata": {
        "id": "ZLRGxhfY5L2Q"
      }
    },
    {
      "cell_type": "code",
      "source": [
        "import heapq\n",
        "\n",
        "def prims_algorithm_with_edges(V, edges):\n",
        "    # Build adjacency list from edge list\n",
        "    graph = {i: [] for i in range(V)}\n",
        "    for u, v, w in edges:\n",
        "        graph[u].append((v, w))\n",
        "        graph[v].append((u, w))  # undirected\n",
        "\n",
        "    visited = [False] * V\n",
        "    min_heap = [(0, 0, -1)]  # (weight, current_node, parent)\n",
        "    total_cost = 0\n",
        "    mst_edges = []\n",
        "\n",
        "    while min_heap:\n",
        "        weight, u, parent = heapq.heappop(min_heap)\n",
        "        if visited[u]:\n",
        "            continue\n",
        "        visited[u] = True\n",
        "        total_cost += weight\n",
        "        if parent != -1:\n",
        "            mst_edges.append((parent, u))\n",
        "\n",
        "        for v, w in graph[u]:\n",
        "            if not visited[v]:\n",
        "                heapq.heappush(min_heap, (w, v, u))\n",
        "\n",
        "    return total_cost, mst_edges\n",
        "\n",
        "# Input\n",
        "V = 5\n",
        "edges = [(0, 1, 1), (0, 2, 3), (1, 2, 1), (1, 3, 4), (2, 3, 2), (3, 4, 2)]\n",
        "\n",
        "# Output\n",
        "cost, mst = prims_algorithm_with_edges(V, edges)\n",
        "print(\"Minimum Cost:\", cost)\n",
        "print(\"MST Edges:\", mst)\n"
      ],
      "metadata": {
        "colab": {
          "base_uri": "https://localhost:8080/"
        },
        "id": "lkTyKsIY5PDO",
        "outputId": "59ad94be-80c0-4f3e-a3b3-73ebf1fd0f4c"
      },
      "execution_count": 36,
      "outputs": [
        {
          "output_type": "stream",
          "name": "stdout",
          "text": [
            "Minimum Cost: 6\n",
            "MST Edges: [(0, 1), (1, 2), (2, 3), (3, 4)]\n"
          ]
        }
      ]
    },
    {
      "cell_type": "markdown",
      "source": [
        "# 14. Kruskal algorithm"
      ],
      "metadata": {
        "id": "gcfLpJDR5UGL"
      }
    },
    {
      "cell_type": "code",
      "source": [
        "class DisjointSet:\n",
        "    def __init__(self, n):\n",
        "        self.parent = list(range(n))\n",
        "\n",
        "    def find(self, u):\n",
        "        if self.parent[u] != u:\n",
        "            self.parent[u] = self.find(self.parent[u])\n",
        "        return self.parent[u]\n",
        "\n",
        "    def union(self, u, v):\n",
        "        pu = self.find(u)\n",
        "        pv = self.find(v)\n",
        "        if pu != pv:\n",
        "            self.parent[pu] = pv\n",
        "\n",
        "def kruskals_algorithm(V, edges):\n",
        "    ds = DisjointSet(V)\n",
        "    edges.sort(key=lambda x: x[2])  # sort by weight\n",
        "    mst = []\n",
        "    min_cost = 0\n",
        "    for u, v, w in edges:\n",
        "        if ds.find(u) != ds.find(v):\n",
        "            ds.union(u, v)\n",
        "            mst.append((u, v, w))\n",
        "            min_cost += w\n",
        "    return min_cost, mst\n",
        "V = 5\n",
        "edges = [(0, 1, 1), (0, 2, 3), (1, 2, 1), (1, 3, 4), (2, 3, 2), (3, 4, 2)]\n",
        "cost, mst = kruskals_algorithm(V, edges)\n",
        "print(\"Minimum Cost:\", cost)\n",
        "print(\"MST Edges:\", mst)"
      ],
      "metadata": {
        "id": "LzqsU2475WnG",
        "colab": {
          "base_uri": "https://localhost:8080/"
        },
        "outputId": "cb17d2a1-17b4-4cf1-b22d-903b9bcfb4e9"
      },
      "execution_count": 37,
      "outputs": [
        {
          "output_type": "stream",
          "name": "stdout",
          "text": [
            "Minimum Cost: 6\n",
            "MST Edges: [(0, 1, 1), (1, 2, 1), (2, 3, 2), (3, 4, 2)]\n"
          ]
        }
      ]
    },
    {
      "cell_type": "markdown",
      "source": [
        "# 1.Min-Max (recurr)"
      ],
      "metadata": {
        "id": "I_qY7l3SaEgl"
      }
    },
    {
      "cell_type": "code",
      "source": [
        "def minmax(a, i, j):\n",
        "    if i == j:\n",
        "        return a[i], a[i]\n",
        "    elif i == j - 1:\n",
        "        if a[i] > a[j]:\n",
        "            return a[i], a[j]\n",
        "        else:\n",
        "            return a[j], a[i]\n",
        "    else:\n",
        "        mid = (i + j) // 2\n",
        "        max1, min1 = minmax(a, i, mid)\n",
        "        max2, min2 = minmax(a, mid + 1, j)\n",
        "        return max(max2, max1), min(min2, min1)\n",
        "a = [1, 4, 15, 10, 0]\n",
        "n = len(a)\n",
        "max_val, min_val = minmax(a, 0, n - 1)\n",
        "print(\"Min:\", min_val)\n",
        "print(\"Max:\", max_val)\n"
      ],
      "metadata": {
        "colab": {
          "base_uri": "https://localhost:8080/"
        },
        "id": "vjbZOm0FaCOb",
        "outputId": "dd319c08-e7f7-478b-b4cf-7882e35ff693"
      },
      "execution_count": 38,
      "outputs": [
        {
          "output_type": "stream",
          "name": "stdout",
          "text": [
            "Min: 0\n",
            "Max: 15\n"
          ]
        }
      ]
    },
    {
      "cell_type": "markdown",
      "source": [
        "# 2.Min-Max (iteration)"
      ],
      "metadata": {
        "id": "Joj7DfeMhNQ7"
      }
    },
    {
      "cell_type": "code",
      "source": [
        "def minmax_iterative(a):\n",
        "    min_val = a[0]\n",
        "    max_val = a[0]\n",
        "    for i in a:\n",
        "        if i < min_val:\n",
        "            min_val = i\n",
        "        if i > max_val:\n",
        "            max_val = i\n",
        "    return min_val, max_val\n",
        "a = [1, 4, 15, 10, 0]\n",
        "min_val, max_val = minmax_iterative(a)\n",
        "print(\"Min:\", min_val)\n",
        "print(\"Max:\", max_val)\n"
      ],
      "metadata": {
        "colab": {
          "base_uri": "https://localhost:8080/"
        },
        "id": "6TnZWz7haDmH",
        "outputId": "957cc41f-53be-46a4-e735-f9bb8a720126"
      },
      "execution_count": 39,
      "outputs": [
        {
          "output_type": "stream",
          "name": "stdout",
          "text": [
            "Min: 0\n",
            "Max: 15\n"
          ]
        }
      ]
    },
    {
      "cell_type": "markdown",
      "source": [
        "# 3.Quicksort(random)"
      ],
      "metadata": {
        "id": "URVEY9MghnZP"
      }
    },
    {
      "cell_type": "code",
      "source": [
        "import random\n",
        "def quicksort(arr, l, h):\n",
        "    if l >= h:\n",
        "        return\n",
        "    pi = random.randint(l, h)\n",
        "    pivot = arr[pi]\n",
        "    arr[pi], arr[h] = arr[h], arr[pi]\n",
        "    i = l\n",
        "    for j in range(l, h):\n",
        "        if arr[j] <= pivot:\n",
        "            arr[i], arr[j] = arr[j], arr[i]\n",
        "            i += 1\n",
        "    arr[i], arr[h] = arr[h], arr[i]\n",
        "    quicksort(arr, l, i - 1)\n",
        "    quicksort(arr, i + 1, h)\n",
        "a = [1, 3, 8, 7]\n",
        "quicksort(a, 0, len(a) - 1)\n",
        "print(\"Sorted array:\", a)\n"
      ],
      "metadata": {
        "id": "MjhH-j4Shnyu",
        "outputId": "0e0eda40-8f76-4a60-d15f-1b21cfda27a5",
        "colab": {
          "base_uri": "https://localhost:8080/"
        }
      },
      "execution_count": 40,
      "outputs": [
        {
          "output_type": "stream",
          "name": "stdout",
          "text": [
            "Sorted array: [1, 3, 7, 8]\n"
          ]
        }
      ]
    },
    {
      "cell_type": "markdown",
      "source": [
        "# 4.Merge sort"
      ],
      "metadata": {
        "id": "R3hsTW7fh90g"
      }
    },
    {
      "cell_type": "code",
      "source": [],
      "metadata": {
        "id": "R8DTBa0wh9pr"
      },
      "execution_count": 40,
      "outputs": []
    },
    {
      "cell_type": "markdown",
      "source": [
        "# 5.Fibnacci(recurr)"
      ],
      "metadata": {
        "id": "vJ7RuErmiM70"
      }
    },
    {
      "cell_type": "code",
      "source": [
        "def fibonacci_recursive(n):\n",
        "    if n <= 0:\n",
        "        return 0\n",
        "    elif n == 1:\n",
        "        return 1\n",
        "    return fibonacci_recursive(n - 1) + fibonacci_recursive(n - 2)\n",
        "n = 10\n",
        "print(\"Recursive Fibonacci:\", [fibonacci_recursive(i) for i in range(n)])\n"
      ],
      "metadata": {
        "id": "7jBjUapwiNUm",
        "outputId": "6d232461-a482-4d6c-ebf1-f6daae26de72",
        "colab": {
          "base_uri": "https://localhost:8080/"
        }
      },
      "execution_count": 41,
      "outputs": [
        {
          "output_type": "stream",
          "name": "stdout",
          "text": [
            "Recursive Fibonacci: [0, 1, 1, 2, 3, 5, 8, 13, 21, 34]\n"
          ]
        }
      ]
    },
    {
      "cell_type": "markdown",
      "source": [
        "# 6.fibnacci(iterative)"
      ],
      "metadata": {
        "id": "kuIcCB3tivTL"
      }
    },
    {
      "cell_type": "code",
      "source": [
        "def fibonacci_iterative(n):\n",
        "    if n <= 0:\n",
        "        return 0\n",
        "    elif n == 1:\n",
        "        return 1\n",
        "    a, b = 0, 1\n",
        "    for _ in range(2, n):\n",
        "        a, b = b, a + b\n",
        "    return b\n",
        "n = 10\n",
        "print(\"Iterative Fibonacci:\", [fibonacci_iterative(i) for i in range(n)])\n"
      ],
      "metadata": {
        "id": "7mj9skn2i4_k",
        "outputId": "b4bcaeb1-b4cc-41c0-ba1a-006dba70de41",
        "colab": {
          "base_uri": "https://localhost:8080/"
        }
      },
      "execution_count": 42,
      "outputs": [
        {
          "output_type": "stream",
          "name": "stdout",
          "text": [
            "Iterative Fibonacci: [0, 1, 1, 1, 2, 3, 5, 8, 13, 21]\n"
          ]
        }
      ]
    },
    {
      "cell_type": "markdown",
      "source": [
        "# 7.Knapsack(greedy)"
      ],
      "metadata": {
        "id": "_7_jpuq_jAZQ"
      }
    },
    {
      "cell_type": "code",
      "source": [
        "def greedy_knapsack(weights, profits, capacity):\n",
        "    n = len(weights)\n",
        "    ratio = [profits[i] / weights[i] for i in range(n)]\n",
        "    index = [i for i in range(n)]\n",
        "\n",
        "    # Sort indices based on ratio in descending order\n",
        "    index.sort(key=lambda i: ratio[i], reverse=True)\n",
        "\n",
        "    total_profit = 0\n",
        "    solution = [0] * n\n",
        "\n",
        "    for i in index:\n",
        "        if capacity >= weights[i]:\n",
        "            solution[i] = 1\n",
        "            total_profit += profits[i]\n",
        "            capacity -= weights[i]\n",
        "        else:\n",
        "            fraction = capacity / weights[i]\n",
        "            solution[i] = fraction\n",
        "            total_profit += profits[i] * fraction\n",
        "            break\n",
        "\n",
        "    print(\"Solution vector:\", solution)\n",
        "    print(\"Optimal solution:\", total_profit)\n",
        "\n",
        "n = 4\n",
        "m = 10\n",
        "p = [24, 18, 18, 10]\n",
        "w = [5, 4, 3, 2]\n",
        "knapsack(n, m, p, w)\n"
      ],
      "metadata": {
        "id": "8wIGQhwhjAPI",
        "outputId": "a6032cad-4193-4207-90f7-dd3bcb3e909e",
        "colab": {
          "base_uri": "https://localhost:8080/"
        }
      },
      "execution_count": 43,
      "outputs": [
        {
          "output_type": "stream",
          "name": "stdout",
          "text": [
            "Solution vector: [1, 0, 1, 1]\n",
            "Optimal solution 52\n"
          ]
        }
      ]
    },
    {
      "cell_type": "markdown",
      "source": [
        "# 8.Huffman"
      ],
      "metadata": {
        "id": "wNa_36ihjPVO"
      }
    },
    {
      "cell_type": "code",
      "source": [
        "import heapq\n",
        "\n",
        "# Node class for Huffman Tree\n",
        "class Node:\n",
        "    def __init__(self, char, freq):\n",
        "        self.char = char\n",
        "        self.freq = freq\n",
        "        self.left = None\n",
        "        self.right = None\n",
        "    def __lt__(self, other):\n",
        "        return self.freq < other.freq\n",
        "\n",
        "# Build the Huffman Tree\n",
        "def build_huffman_tree(frequencies):\n",
        "    heap = [Node(char, freq) for char, freq in frequencies.items()]\n",
        "    heapq.heapify(heap)\n",
        "\n",
        "    while len(heap) > 1:\n",
        "        x = heapq.heappop(heap)\n",
        "        y = heapq.heappop(heap)\n",
        "        z = Node(None, x.freq + y.freq)\n",
        "        z.left = x\n",
        "        z.right = y\n",
        "        heapq.heappush(heap, z)\n",
        "\n",
        "    return heap[0]\n",
        "\n",
        "# Generate Huffman Codes\n",
        "def generate_codes(node, code='', code_map=None):\n",
        "    if code_map is None:\n",
        "        code_map = {}\n",
        "    if node:\n",
        "        if node.char is not None:\n",
        "            code_map[node.char] = code\n",
        "        generate_codes(node.left, code + '0', code_map)\n",
        "        generate_codes(node.right, code + '1', code_map)\n",
        "    return code_map\n",
        "\n",
        "# Calculate total encoded bits\n",
        "def total_encoded_bits(code_map, frequencies):\n",
        "    return sum(len(code_map[char]) * freq for char, freq in frequencies.items())\n",
        "\n",
        "# Example usage\n",
        "frequencies = {'A': 5, 'B': 1, 'C': 6, 'D': 3}\n",
        "root = build_huffman_tree(frequencies)\n",
        "codes = generate_codes(root)\n",
        "total_bits = total_encoded_bits(codes, frequencies)\n",
        "\n",
        "print(\"Character Frequencies:\", frequencies)\n",
        "print(\"Huffman Codes:\", codes)\n",
        "print(\"Total Encoded Bits Required:\", total_bits)\n"
      ],
      "metadata": {
        "id": "i6R1T-dhjPAl",
        "outputId": "9b9d8171-0357-42b7-ebe4-2f294fd51181",
        "colab": {
          "base_uri": "https://localhost:8080/"
        }
      },
      "execution_count": 44,
      "outputs": [
        {
          "output_type": "stream",
          "name": "stdout",
          "text": [
            "Character Frequencies: {'A': 5, 'B': 1, 'C': 6, 'D': 3}\n",
            "Huffman Codes: {'C': '0', 'B': '100', 'D': '101', 'A': '11'}\n",
            "Total Encoded Bits Required: 28\n"
          ]
        }
      ]
    },
    {
      "cell_type": "markdown",
      "source": [
        "# 9.Job scheduling"
      ],
      "metadata": {
        "id": "EnJcwfCOknBL"
      }
    },
    {
      "cell_type": "code",
      "source": [
        "def job_scheduling(jobs):\n",
        "    # jobs: list of [profit, deadline]\n",
        "    jobs.sort(reverse=True)  # sort by profit descending\n",
        "    max_deadline = max(job[1] for job in jobs)\n",
        "    slot = [None] * (max_deadline + 1)\n",
        "\n",
        "    for job in jobs:\n",
        "        profit, deadline = job\n",
        "        for j in range(min(max_deadline, deadline), 0, -1):\n",
        "            if slot[j] is None:\n",
        "                slot[j] = job\n",
        "                break\n",
        "\n",
        "    scheduled_jobs = [job for job in slot if job]\n",
        "    return scheduled_jobs\n",
        "# Example\n",
        "jobs = [[15,7],[20,2],[30,5],[18,3],[18,4],[10,5],[23,2],[16,7],[25,3]]\n",
        "result = job_scheduling(jobs)\n",
        "print(\"Scheduled Jobs:\", result)\n",
        "print(\"Total Profit:\", sum(job[0] for job in result))"
      ],
      "metadata": {
        "id": "9xrcYJx7km3E",
        "outputId": "50dc0f4e-6fc6-4228-833d-a7f621080ff4",
        "colab": {
          "base_uri": "https://localhost:8080/"
        }
      },
      "execution_count": 45,
      "outputs": [
        {
          "output_type": "stream",
          "name": "stdout",
          "text": [
            "Scheduled Jobs: [[20, 2], [23, 2], [25, 3], [18, 4], [30, 5], [15, 7], [16, 7]]\n",
            "Total Profit: 147\n"
          ]
        }
      ]
    },
    {
      "cell_type": "markdown",
      "source": [
        "# 10.0/1 knapsack(dynamic)"
      ],
      "metadata": {
        "id": "pH1JM2HUlHxz"
      }
    },
    {
      "cell_type": "code",
      "source": [
        "def knapsack_01(n, W, weights, profits):\n",
        "    # Create DP table\n",
        "    k = [[0 for _ in range(W + 1)] for _ in range(n + 1)]\n",
        "\n",
        "    # Build table\n",
        "    for i in range(1, n + 1):\n",
        "        for w in range(W + 1):\n",
        "            if weights[i - 1] <= w:\n",
        "                k[i][w] = max(profits[i - 1] + k[i - 1][w - weights[i - 1]], k[i - 1][w])\n",
        "            else:\n",
        "                k[i][w] = k[i - 1][w]\n",
        "\n",
        "    # Backtracking to find solution vector\n",
        "    solution_vector = [0] * n\n",
        "    w = W\n",
        "    for i in range(n, 0, -1):\n",
        "        if k[i][w] != k[i - 1][w]:  # Item was included\n",
        "            solution_vector[i - 1] = 1\n",
        "            w -= weights[i - 1]\n",
        "\n",
        "    return k[n][W], solution_vector\n",
        "\n",
        "# Example\n",
        "n = 3\n",
        "W = 20\n",
        "weights = [18, 15, 10]\n",
        "profits = [25, 24, 15]\n",
        "optimal_profit, solution_vector = knapsack_01(n, W, weights, profits)\n",
        "print(\"Optimal Profit:\", optimal_profit)\n",
        "print(\"Solution Vector (1=included, 0=excluded):\", solution_vector)\n",
        "\n"
      ],
      "metadata": {
        "id": "OeiwvisdlHli",
        "outputId": "8922336e-04a4-46d5-b369-ca0ec2005652",
        "colab": {
          "base_uri": "https://localhost:8080/"
        }
      },
      "execution_count": 46,
      "outputs": [
        {
          "output_type": "stream",
          "name": "stdout",
          "text": [
            "Optimal Profit: 25\n",
            "Solution Vector (1=included, 0=excluded): [1, 0, 0]\n"
          ]
        }
      ]
    },
    {
      "cell_type": "markdown",
      "source": [
        "# 11.TSP(dynamic)"
      ],
      "metadata": {
        "id": "nRde4qO8l729"
      }
    },
    {
      "cell_type": "code",
      "source": [
        "def tsp_with_path_iterative(graph):\n",
        "    n = len(graph)\n",
        "    size = 1 << n\n",
        "    dp = [[float('inf')] * n for _ in range(size)]\n",
        "    parent = [[-1] * n for _ in range(size)]\n",
        "\n",
        "    dp[1][0] = 0  # Start from city 0\n",
        "\n",
        "    for mask in range(size):\n",
        "        for u in range(n):\n",
        "            if not (mask & (1 << u)):\n",
        "                continue\n",
        "            for v in range(n):\n",
        "                if (mask & (1 << v)) == 0:\n",
        "                    new_mask = mask | (1 << v)\n",
        "                    new_cost = dp[mask][u] + graph[u][v]\n",
        "                    if new_cost < dp[new_mask][v]:\n",
        "                        dp[new_mask][v] = new_cost\n",
        "                        parent[new_mask][v] = u\n",
        "\n",
        "    # End at the best city and return to 0\n",
        "    end_city = 0\n",
        "    min_cost = float('inf')\n",
        "    for i in range(n):\n",
        "        cost = dp[size - 1][i] + graph[i][0]\n",
        "        if cost < min_cost:\n",
        "            min_cost = cost\n",
        "            end_city = i\n",
        "\n",
        "    # Reconstruct path\n",
        "    path = []\n",
        "    mask = size - 1\n",
        "    curr = end_city\n",
        "    while curr != -1:\n",
        "        path.append(curr)\n",
        "        prev = parent[mask][curr]\n",
        "        mask ^= (1 << curr)\n",
        "        curr = prev\n",
        "    path.append(0)\n",
        "    path.reverse()\n",
        "\n",
        "    return min_cost, path\n",
        "graph = [[0, 10, 15, 20],\n",
        "         [10, 0, 35, 25],\n",
        "         [15, 35, 0, 30],\n",
        "         [20, 25, 30, 0]]\n",
        "\n",
        "cost, tour = tsp_with_path_iterative(graph)\n",
        "print(\"Minimum Cost:\", cost)\n",
        "print(\"Path:\", ' -> '.join(map(str, tour)))\n"
      ],
      "metadata": {
        "id": "CUnU-MvLl7sy",
        "outputId": "246f1c4a-8413-4025-c59c-8b84e691027c",
        "colab": {
          "base_uri": "https://localhost:8080/"
        }
      },
      "execution_count": 47,
      "outputs": [
        {
          "output_type": "stream",
          "name": "stdout",
          "text": [
            "Minimum Cost: 80\n",
            "Path: 0 -> 0 -> 2 -> 3 -> 1\n"
          ]
        }
      ]
    },
    {
      "cell_type": "markdown",
      "source": [
        "# 12.Matrix chain mul"
      ],
      "metadata": {
        "id": "iZnmRvWpmzE-"
      }
    },
    {
      "cell_type": "code",
      "source": [
        "def matrix_chain_order(p):\n",
        "    n = len(p) - 1\n",
        "    m = [[0] * n for _ in range(n)]\n",
        "    s = [[0] * n for _ in range(n)]\n",
        "\n",
        "    for L in range(2, n + 1):\n",
        "        for i in range(n - L + 1):\n",
        "            j = i + L - 1\n",
        "            m[i][j] = float('inf')\n",
        "            for k in range(i, j):\n",
        "                cost = m[i][k] + m[k + 1][j] + p[i] * p[k + 1] * p[j + 1]\n",
        "                if cost < m[i][j]:\n",
        "                    m[i][j] = cost\n",
        "                    s[i][j] = k\n",
        "    return m, s\n",
        "\n",
        "def print_optimal_parens(s, i, j):\n",
        "    if i == j:\n",
        "        return f\"A{i+1}\"\n",
        "    else:\n",
        "        return \"(\" + print_optimal_parens(s, i, s[i][j]) + \" x \" + print_optimal_parens(s, s[i][j] + 1, j) + \")\"\n",
        "\n",
        "# Example\n",
        "p = [10, 20, 30, 40, 30]\n",
        "m, s = matrix_chain_order(p)\n",
        "print(\"Minimum number of multiplications:\", m[0][len(p) - 2])\n",
        "print(\"Optimal order of multiplication:\", print_optimal_parens(s, 0, len(p) - 2))\n",
        "\n"
      ],
      "metadata": {
        "id": "U7uTlbu1my2Y",
        "outputId": "ce37723e-27fa-45d5-b19b-9a8dbcfb12cc",
        "colab": {
          "base_uri": "https://localhost:8080/"
        }
      },
      "execution_count": 48,
      "outputs": [
        {
          "output_type": "stream",
          "name": "stdout",
          "text": [
            "Minimum number of multiplications: 30000\n",
            "Optimal order of multiplication: (((A1 x A2) x A3) x A4)\n"
          ]
        }
      ]
    },
    {
      "cell_type": "markdown",
      "source": [
        "# 13.LCS"
      ],
      "metadata": {
        "id": "Xu3FQoRIoGjK"
      }
    },
    {
      "cell_type": "code",
      "source": [
        "def lcs(X, Y):\n",
        "    m, n = len(X), len(Y)\n",
        "    dp = [[0] * (n + 1) for _ in range(m + 1)]\n",
        "\n",
        "    # Build the DP table\n",
        "    for i in range(m + 1):\n",
        "        for j in range(n + 1):\n",
        "            if i == 0 or j == 0:\n",
        "                dp[i][j] = 0\n",
        "            elif X[i - 1] == Y[j - 1]:\n",
        "                dp[i][j] = 1 + dp[i - 1][j - 1]\n",
        "            else:\n",
        "                dp[i][j] = max(dp[i - 1][j], dp[i][j - 1])\n",
        "\n",
        "    # Reconstruct the LCS sequence from dp table\n",
        "    i, j = m, n\n",
        "    lcs_seq = []\n",
        "    while i > 0 and j > 0:\n",
        "        if X[i - 1] == Y[j - 1]:\n",
        "            lcs_seq.append(X[i - 1])\n",
        "            i -= 1\n",
        "            j -= 1\n",
        "        elif dp[i - 1][j] > dp[i][j - 1]:\n",
        "            i -= 1\n",
        "        else:\n",
        "            j -= 1\n",
        "\n",
        "    lcs_seq.reverse()\n",
        "    return dp[m][n], ''.join(lcs_seq)\n",
        "\n",
        "# Example\n",
        "X = \"ABCBDAB\"\n",
        "Y = \"BDCAB\"\n",
        "length, sequence = lcs(X, Y)\n",
        "print(\"Length of LCS:\", length)\n",
        "print(\"LCS Sequence:\", sequence)\n"
      ],
      "metadata": {
        "id": "SGY8OV14oGWR",
        "outputId": "0159ffca-8915-45f1-9ea8-7d4500c2c9c8",
        "colab": {
          "base_uri": "https://localhost:8080/"
        }
      },
      "execution_count": 49,
      "outputs": [
        {
          "output_type": "stream",
          "name": "stdout",
          "text": [
            "Length of LCS: 4\n",
            "LCS Sequence: BDAB\n"
          ]
        }
      ]
    },
    {
      "cell_type": "markdown",
      "source": [
        "# 14.OBST"
      ],
      "metadata": {
        "id": "Vgz3oW2iojVZ"
      }
    },
    {
      "cell_type": "code",
      "source": [
        "def optimal_bst(keys, freq):\n",
        "    n = len(keys)\n",
        "    cost = [[0 for _ in range(n)] for _ in range(n)]\n",
        "\n",
        "    # Cost for single key trees\n",
        "    for i in range(n):\n",
        "        cost[i][i] = freq[i]\n",
        "\n",
        "    # L is chain length\n",
        "    for L in range(2, n + 1):\n",
        "        for i in range(n - L + 1):\n",
        "            j = i + L - 1\n",
        "            cost[i][j] = float('inf')\n",
        "\n",
        "            # Try making all keys in interval i to j root\n",
        "            for r in range(i, j + 1):\n",
        "                left = cost[i][r - 1] if r > i else 0\n",
        "                right = cost[r + 1][j] if r < j else 0\n",
        "                total = sum(freq[i:j + 1])\n",
        "                c = left + right + total\n",
        "                if c < cost[i][j]:\n",
        "                    cost[i][j] = c\n",
        "\n",
        "    return cost[0][n - 1]\n",
        "keys = [10, 12, 20]\n",
        "freq = [34, 8, 50]\n",
        "print(\"Cost of OBST:\", optimal_bst(keys, freq))\n"
      ],
      "metadata": {
        "id": "pyuMMtbCojKY",
        "outputId": "f74e31be-21c2-44bb-9d9a-e289b6132f4d",
        "colab": {
          "base_uri": "https://localhost:8080/"
        }
      },
      "execution_count": 50,
      "outputs": [
        {
          "output_type": "stream",
          "name": "stdout",
          "text": [
            "Cost of OBST: 142\n"
          ]
        }
      ]
    },
    {
      "cell_type": "markdown",
      "source": [
        "# 15.N-Queens"
      ],
      "metadata": {
        "id": "QqzfMoQNpA6K"
      }
    },
    {
      "cell_type": "code",
      "source": [
        "def is_safe(board, row, col):\n",
        "    for i in range(row):\n",
        "        if board[i] == col or \\\n",
        "           board[i] - i == col - row or \\\n",
        "           board[i] + i == col + row:\n",
        "            return False\n",
        "    return True\n",
        "\n",
        "def solve_nqueens(n):\n",
        "    def backtrack(row, board):\n",
        "        if row == n:\n",
        "            solutions.append(board[:])\n",
        "            return\n",
        "        for col in range(n):\n",
        "            if is_safe(board, row, col):\n",
        "                board[row] = col\n",
        "                backtrack(row + 1, board)\n",
        "\n",
        "    solutions = []\n",
        "    board = [-1] * n\n",
        "    backtrack(0, board)\n",
        "    return solutions\n",
        "solutions = solve_nqueens(4)\n",
        "for sol in solutions:\n",
        "    print(sol)\n"
      ],
      "metadata": {
        "id": "bQr7AsTvpAv0",
        "outputId": "dcf40aa8-873d-44e5-ad70-3255bb38b4ac",
        "colab": {
          "base_uri": "https://localhost:8080/"
        }
      },
      "execution_count": 51,
      "outputs": [
        {
          "output_type": "stream",
          "name": "stdout",
          "text": [
            "[1, 3, 0, 2]\n",
            "[2, 0, 3, 1]\n"
          ]
        }
      ]
    },
    {
      "cell_type": "markdown",
      "source": [
        "# 16.Strassen Matrix"
      ],
      "metadata": {
        "id": "S6Jh6GA4pfZq"
      }
    },
    {
      "cell_type": "code",
      "source": [
        "def add_matrix(A, B):\n",
        "    return [[A[i][j] + B[i][j] for j in range(len(A))] for i in range(len(A))]\n",
        "\n",
        "def sub_matrix(A, B):\n",
        "    return [[A[i][j] - B[i][j] for j in range(len(A))] for i in range(len(A))]\n",
        "\n",
        "def strassen(A, B):\n",
        "    n = len(A)\n",
        "    if n == 1:\n",
        "        return [[A[0][0] * B[0][0]]]\n",
        "\n",
        "    mid = n // 2\n",
        "    A11 = [[A[i][j] for j in range(mid)] for i in range(mid)]\n",
        "    A12 = [[A[i][j] for j in range(mid, n)] for i in range(mid)]\n",
        "    A21 = [[A[i][j] for j in range(mid)] for i in range(mid, n)]\n",
        "    A22 = [[A[i][j] for j in range(mid, n)] for i in range(mid, n)]\n",
        "\n",
        "    B11 = [[B[i][j] for j in range(mid)] for i in range(mid)]\n",
        "    B12 = [[B[i][j] for j in range(mid, n)] for i in range(mid)]\n",
        "    B21 = [[B[i][j] for j in range(mid)] for i in range(mid, n)]\n",
        "    B22 = [[B[i][j] for j in range(mid, n)] for i in range(mid, n)]\n",
        "\n",
        "    M1 = strassen(add_matrix(A11, A22), add_matrix(B11, B22))\n",
        "    M2 = strassen(add_matrix(A21, A22), B11)\n",
        "    M3 = strassen(A11, sub_matrix(B12, B22))\n",
        "    M4 = strassen(A22, sub_matrix(B21, B11))\n",
        "    M5 = strassen(add_matrix(A11, A12), B22)\n",
        "    M6 = strassen(sub_matrix(A21, A11), add_matrix(B11, B12))\n",
        "    M7 = strassen(sub_matrix(A12, A22), add_matrix(B21, B22))\n",
        "\n",
        "    C11 = add_matrix(sub_matrix(add_matrix(M1, M4), M5), M7)\n",
        "    C12 = add_matrix(M3, M5)\n",
        "    C21 = add_matrix(M2, M4)\n",
        "    C22 = add_matrix(sub_matrix(add_matrix(M1, M3), M2), M6)\n",
        "\n",
        "    # Combine quadrants into full matrix\n",
        "    new_matrix = []\n",
        "    for i in range(mid):\n",
        "        new_matrix.append(C11[i] + C12[i])\n",
        "    for i in range(mid):\n",
        "        new_matrix.append(C21[i] + C22[i])\n",
        "\n",
        "    return new_matrix\n",
        "A = [[1, 2],\n",
        "     [3, 4]]\n",
        "B = [[5, 6],\n",
        "     [7, 8]]\n",
        "\n",
        "result = strassen(A, B)\n",
        "for row in result:\n",
        "    print(row)\n"
      ],
      "metadata": {
        "id": "hiC2yh2rpfLq",
        "outputId": "17643e93-0f45-4ae1-d7be-79ff1247c790",
        "colab": {
          "base_uri": "https://localhost:8080/"
        }
      },
      "execution_count": 52,
      "outputs": [
        {
          "output_type": "stream",
          "name": "stdout",
          "text": [
            "[19, 22]\n",
            "[43, 50]\n"
          ]
        }
      ]
    }
  ]
}